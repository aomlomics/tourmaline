{
 "cells": [
  {
   "cell_type": "markdown",
   "id": "electrical-adrian",
   "metadata": {},
   "source": [
    "# Tourmaline Meta-analysis Notebook"
   ]
  },
  {
   "cell_type": "markdown",
   "id": "spare-checkout",
   "metadata": {},
   "source": [
    "This notebook shows how to take Tourmaline outputs from two (or more) separate analyses and merge them for a meta-analysis. The two analyses are derived from the test data that comes with Tourmaline, and the output must first be generated (commands provided)."
   ]
  },
  {
   "cell_type": "markdown",
   "id": "selective-hygiene",
   "metadata": {},
   "source": [
    "## Import packages"
   ]
  },
  {
   "cell_type": "code",
   "execution_count": 1,
   "id": "interstate-wrestling",
   "metadata": {},
   "outputs": [],
   "source": [
    "from qiime2 import Artifact\n",
    "from qiime2 import Visualization\n",
    "import pandas as pd\n",
    "import matplotlib.pyplot as plt\n",
    "import seaborn as sns\n",
    "%matplotlib inline"
   ]
  },
  {
   "cell_type": "markdown",
   "id": "metric-ocean",
   "metadata": {},
   "source": [
    "## Set file paths"
   ]
  },
  {
   "cell_type": "markdown",
   "id": "eadf279b",
   "metadata": {},
   "source": [
    "**The value of `tourmdir` should be changed if this notebook is not being run from its original location in the `notebooks` directory.**"
   ]
  },
  {
   "cell_type": "code",
   "execution_count": 7,
   "id": "3f259b06",
   "metadata": {},
   "outputs": [],
   "source": [
    "tourmdir = '..'"
   ]
  },
  {
   "cell_type": "code",
   "execution_count": 8,
   "id": "sustainable-round",
   "metadata": {},
   "outputs": [],
   "source": [
    "dir_analysis1 = '%s/meta-analysis/analysis1' % tourmdir\n",
    "dir_analysis2 = '%s/meta-analysis/analysis2' % tourmdir"
   ]
  },
  {
   "cell_type": "markdown",
   "id": "distributed-father",
   "metadata": {},
   "source": [
    "## Set up Tourmaline analyses"
   ]
  },
  {
   "cell_type": "markdown",
   "id": "handled-receipt",
   "metadata": {},
   "source": [
    "The below commands will, for each analysis, clone the Tourmaline respository, initialize it using parameters and files from the top-level repository (already downloaded), and copy the provided metadata and manifest files to their proper location in `00-data`."
   ]
  },
  {
   "cell_type": "code",
   "execution_count": 3,
   "id": "fancy-soccer",
   "metadata": {},
   "outputs": [
    {
     "name": "stderr",
     "output_type": "stream",
     "text": [
      "Cloning into 'tourmaline'...\n"
     ]
    },
    {
     "name": "stdout",
     "output_type": "stream",
     "text": [
      "Removed:\n",
      "00-data/fastq/Sample_134723_R2.fastq.gz\n",
      "00-data/fastq/Sample_134722_R1.fastq.gz\n",
      "00-data/fastq/Sample_134789_R2.fastq.gz\n",
      "00-data/fastq/Sample_134719_R1.fastq.gz\n",
      "00-data/fastq/Sample_134768_R2.fastq.gz\n",
      "00-data/fastq/Sample_134718_R2.fastq.gz\n",
      "00-data/fastq/Sample_134771_R2.fastq.gz\n",
      "00-data/fastq/Sample_134790_R2.fastq.gz\n",
      "00-data/fastq/Sample_134778_R2.fastq.gz\n",
      "00-data/fastq/Sample_134767_R2.fastq.gz\n",
      "00-data/fastq/Sample_134717_R2.fastq.gz\n",
      "00-data/fastq/Sample_134716_R1.fastq.gz\n",
      "00-data/fastq/Sample_134772_R2.fastq.gz\n",
      "00-data/fastq/Sample_134777_R2.fastq.gz\n",
      "00-data/fastq/Sample_134721_R1.fastq.gz\n",
      "00-data/fastq/Sample_134720_R2.fastq.gz\n",
      "00-data/fastq/Sample_134778_R1.fastq.gz\n",
      "00-data/fastq/Sample_134771_R1.fastq.gz\n",
      "00-data/fastq/Sample_134790_R1.fastq.gz\n",
      "00-data/fastq/Sample_134789_R1.fastq.gz\n",
      "00-data/fastq/Sample_134719_R2.fastq.gz\n",
      "00-data/fastq/Sample_134768_R1.fastq.gz\n",
      "00-data/fastq/Sample_134718_R1.fastq.gz\n",
      "00-data/fastq/Sample_134723_R1.fastq.gz\n",
      "00-data/fastq/Sample_134722_R2.fastq.gz\n",
      "00-data/fastq/Sample_134721_R2.fastq.gz\n",
      "00-data/fastq/Sample_134720_R1.fastq.gz\n",
      "00-data/fastq/Sample_134777_R1.fastq.gz\n",
      "00-data/fastq/Sample_134772_R1.fastq.gz\n",
      "00-data/fastq/Sample_134767_R1.fastq.gz\n",
      "00-data/fastq/Sample_134717_R1.fastq.gz\n",
      "00-data/fastq/Sample_134716_R2.fastq.gz\n",
      "00-data/fastq\n",
      "00-data/manifest_pe.csv\n",
      "00-data/manifest_se.csv\n",
      "00-data/metadata.tsv\n",
      "00-data/repseqs_to_filter_dada2-pe.tsv\n",
      "00-data/repseqs_to_filter_dada2-se.tsv\n",
      "00-data/repseqs_to_filter_deblur-se.tsv\n",
      "00-data/samples_to_filter_dada2-pe.tsv\n",
      "00-data/samples_to_filter_dada2-se.tsv\n",
      "00-data/samples_to_filter_deblur-se.tsv\n",
      "Copied:\n",
      "../../../config.yaml -> config.yaml\n",
      "../../../00-data/manifest_pe.csv -> 00-data/manifest_pe.csv\n",
      "../../../00-data/manifest_se.csv -> 00-data/manifest_se.csv\n",
      "../../../00-data/metadata.tsv -> 00-data/metadata.tsv\n",
      "../../../00-data/repseqs_to_filter_dada2-pe.tsv -> 00-data/repseqs_to_filter_dada2-pe.tsv\n",
      "../../../00-data/repseqs_to_filter_dada2-se.tsv -> 00-data/repseqs_to_filter_dada2-se.tsv\n",
      "../../../00-data/repseqs_to_filter_deblur-se.tsv -> 00-data/repseqs_to_filter_deblur-se.tsv\n",
      "../../../01-imported/refseqs.qza -> 01-imported/refseqs.qza\n",
      "../../../01-imported/reftax.qza -> 01-imported/reftax.qza\n"
     ]
    }
   ],
   "source": [
    "%%bash\n",
    "cd ../meta-analysis/analysis1\n",
    "git clone https://github.com/aomlomics/tourmaline\n",
    "cd tourmaline\n",
    "./scripts/initialize_dir_from_existing_tourmaline_dir.sh ../../..\n",
    "cp ../metadata.tsv 00-data\n",
    "cp ../manifest_* 00-data\n",
    "cp ../../../01-imported/silva-138-99-seqs-515-806.qza 01-imported\n",
    "cp ../../../01-imported/silva-138-99-tax-515-806.qza 01-imported"
   ]
  },
  {
   "cell_type": "code",
   "execution_count": 4,
   "id": "manual-linux",
   "metadata": {},
   "outputs": [
    {
     "name": "stderr",
     "output_type": "stream",
     "text": [
      "Cloning into 'tourmaline'...\n"
     ]
    },
    {
     "name": "stdout",
     "output_type": "stream",
     "text": [
      "Removed:\n",
      "00-data/fastq/Sample_134723_R2.fastq.gz\n",
      "00-data/fastq/Sample_134722_R1.fastq.gz\n",
      "00-data/fastq/Sample_134789_R2.fastq.gz\n",
      "00-data/fastq/Sample_134719_R1.fastq.gz\n",
      "00-data/fastq/Sample_134768_R2.fastq.gz\n",
      "00-data/fastq/Sample_134718_R2.fastq.gz\n",
      "00-data/fastq/Sample_134771_R2.fastq.gz\n",
      "00-data/fastq/Sample_134790_R2.fastq.gz\n",
      "00-data/fastq/Sample_134778_R2.fastq.gz\n",
      "00-data/fastq/Sample_134767_R2.fastq.gz\n",
      "00-data/fastq/Sample_134717_R2.fastq.gz\n",
      "00-data/fastq/Sample_134716_R1.fastq.gz\n",
      "00-data/fastq/Sample_134772_R2.fastq.gz\n",
      "00-data/fastq/Sample_134777_R2.fastq.gz\n",
      "00-data/fastq/Sample_134721_R1.fastq.gz\n",
      "00-data/fastq/Sample_134720_R2.fastq.gz\n",
      "00-data/fastq/Sample_134778_R1.fastq.gz\n",
      "00-data/fastq/Sample_134771_R1.fastq.gz\n",
      "00-data/fastq/Sample_134790_R1.fastq.gz\n",
      "00-data/fastq/Sample_134789_R1.fastq.gz\n",
      "00-data/fastq/Sample_134719_R2.fastq.gz\n",
      "00-data/fastq/Sample_134768_R1.fastq.gz\n",
      "00-data/fastq/Sample_134718_R1.fastq.gz\n",
      "00-data/fastq/Sample_134723_R1.fastq.gz\n",
      "00-data/fastq/Sample_134722_R2.fastq.gz\n",
      "00-data/fastq/Sample_134721_R2.fastq.gz\n",
      "00-data/fastq/Sample_134720_R1.fastq.gz\n",
      "00-data/fastq/Sample_134777_R1.fastq.gz\n",
      "00-data/fastq/Sample_134772_R1.fastq.gz\n",
      "00-data/fastq/Sample_134767_R1.fastq.gz\n",
      "00-data/fastq/Sample_134717_R1.fastq.gz\n",
      "00-data/fastq/Sample_134716_R2.fastq.gz\n",
      "00-data/fastq\n",
      "00-data/manifest_pe.csv\n",
      "00-data/manifest_se.csv\n",
      "00-data/metadata.tsv\n",
      "00-data/repseqs_to_filter_dada2-pe.tsv\n",
      "00-data/repseqs_to_filter_dada2-se.tsv\n",
      "00-data/repseqs_to_filter_deblur-se.tsv\n",
      "00-data/samples_to_filter_dada2-pe.tsv\n",
      "00-data/samples_to_filter_dada2-se.tsv\n",
      "00-data/samples_to_filter_deblur-se.tsv\n",
      "Copied:\n",
      "../../../config.yaml -> config.yaml\n",
      "../../../00-data/manifest_pe.csv -> 00-data/manifest_pe.csv\n",
      "../../../00-data/manifest_se.csv -> 00-data/manifest_se.csv\n",
      "../../../00-data/metadata.tsv -> 00-data/metadata.tsv\n",
      "../../../00-data/repseqs_to_filter_dada2-pe.tsv -> 00-data/repseqs_to_filter_dada2-pe.tsv\n",
      "../../../00-data/repseqs_to_filter_dada2-se.tsv -> 00-data/repseqs_to_filter_dada2-se.tsv\n",
      "../../../00-data/repseqs_to_filter_deblur-se.tsv -> 00-data/repseqs_to_filter_deblur-se.tsv\n",
      "../../../01-imported/refseqs.qza -> 01-imported/refseqs.qza\n",
      "../../../01-imported/reftax.qza -> 01-imported/reftax.qza\n"
     ]
    }
   ],
   "source": [
    "%%bash\n",
    "cd ../meta-analysis/analysis2\n",
    "git clone https://github.com/aomlomics/tourmaline\n",
    "cd tourmaline\n",
    "./scripts/initialize_dir_from_existing_tourmaline_dir.sh ../../..\n",
    "cp ../metadata.tsv 00-data\n",
    "cp ../manifest_* 00-data\n",
    "cp ../../../01-imported/silva-138-99-seqs-515-806.qza 01-imported\n",
    "cp ../../../01-imported/silva-138-99-tax-515-806.qza 01-imported"
   ]
  },
  {
   "cell_type": "markdown",
   "id": "weird-hollow",
   "metadata": {},
   "source": [
    "After running the above steps, check that the required input files are all present."
   ]
  },
  {
   "cell_type": "markdown",
   "id": "textile-chest",
   "metadata": {},
   "source": [
    "## Run Tourmaline analyses"
   ]
  },
  {
   "cell_type": "markdown",
   "id": "helpful-snapshot",
   "metadata": {},
   "source": [
    "Run the two commands below from your Terminal (i.e., outside of this notebook). Each command will take ~5 minutes to complete."
   ]
  },
  {
   "cell_type": "markdown",
   "id": "cathedral-professor",
   "metadata": {
    "scrolled": true
   },
   "source": [
    "```bash\n",
    "conda activate snakemake\n",
    "cd ../meta-analysis/analysis1/tourmaline\n",
    "snakemake --use-conda dada2_pe_report_unfiltered --cores 4\n",
    "```"
   ]
  },
  {
   "cell_type": "markdown",
   "id": "brazilian-skating",
   "metadata": {},
   "source": [
    "```bash\n",
    "conda activate snakemake\n",
    "cd ../meta-analysis/analysis2/tourmaline\n",
    "snakemake --use-conda dada2_pe_report_unfiltered --cores 4\n",
    "```"
   ]
  },
  {
   "cell_type": "markdown",
   "id": "solid-drive",
   "metadata": {},
   "source": [
    "## Merge outputs"
   ]
  },
  {
   "cell_type": "markdown",
   "id": "ranging-combine",
   "metadata": {},
   "source": [
    "### Merge feature tables\n",
    "\n",
    "Additional feature table files can be merged by adding more `--i-tables` inputs."
   ]
  },
  {
   "cell_type": "code",
   "execution_count": null,
   "id": "original-minority",
   "metadata": {},
   "outputs": [],
   "source": [
    "%%bash\n",
    "qiime feature-table merge \\\n",
    "--i-tables ../meta-analysis/analysis1/tourmaline/02-output-dada2-pe-unfiltered/00-table-repseqs/table.qza \\\n",
    "--i-tables ../meta-analysis/analysis2/tourmaline/02-output-dada2-pe-unfiltered/00-table-repseqs/table.qza \\\n",
    "--o-merged-table ../meta-analysis/merged_table.qza"
   ]
  },
  {
   "cell_type": "markdown",
   "id": "ruled-divorce",
   "metadata": {},
   "source": [
    "### Merge representative sequences\n",
    "\n",
    "Additional representative sequences files can be merged by adding more `--i-data` inputs."
   ]
  },
  {
   "cell_type": "code",
   "execution_count": null,
   "id": "hydraulic-gothic",
   "metadata": {},
   "outputs": [],
   "source": [
    "%%bash\n",
    "qiime feature-table merge-seqs \\\n",
    "--i-data ../meta-analysis/analysis1/tourmaline/02-output-dada2-pe-unfiltered/00-table-repseqs/repseqs.qza \\\n",
    "--i-data ../meta-analysis/analysis2/tourmaline/02-output-dada2-pe-unfiltered/00-table-repseqs/repseqs.qza \\\n",
    "--o-merged-data ../meta-analysis/merged_repseqs.qza"
   ]
  },
  {
   "cell_type": "markdown",
   "id": "ceramic-border",
   "metadata": {},
   "source": [
    "### Merge taxonomies\n",
    "\n",
    "Additional taxonomy files can be merged by adding more `--i-data` inputs."
   ]
  },
  {
   "cell_type": "code",
   "execution_count": null,
   "id": "choice-carry",
   "metadata": {},
   "outputs": [],
   "source": [
    "%%bash\n",
    "qiime feature-table merge-taxa \\\n",
    "--i-data ../meta-analysis/analysis1/tourmaline/02-output-dada2-pe-unfiltered/01-taxonomy/taxonomy.qza \\\n",
    "--i-data ../meta-analysis/analysis2/tourmaline/02-output-dada2-pe-unfiltered/01-taxonomy/taxonomy.qza \\\n",
    "--o-merged-data ../meta-analysis/merged_taxonomy.qza"
   ]
  },
  {
   "cell_type": "markdown",
   "id": "unexpected-arctic",
   "metadata": {},
   "source": [
    "### Merge metadata\n",
    "\n",
    "Additional metadata files can be merged by importing more files and adding them to the `concat` command."
   ]
  },
  {
   "cell_type": "code",
   "execution_count": null,
   "id": "noted-syndicate",
   "metadata": {},
   "outputs": [],
   "source": [
    "metadata1 = pd.read_csv('%s/tourmaline/00-data/metadata.tsv' % dir_analysis1, sep='\\t', index_col=0)\n",
    "metadata2 = pd.read_csv('%s/tourmaline/00-data/metadata.tsv' % dir_analysis2, sep='\\t', index_col=0)\n",
    "metadata_merged = pd.concat([metadata1, metadata2])\n",
    "metadata_merged.to_csv('../meta-analysis/merged_metadata.tsv', sep='\\t')"
   ]
  },
  {
   "cell_type": "markdown",
   "id": "lesser-archive",
   "metadata": {},
   "source": [
    "## Analyze merged output"
   ]
  },
  {
   "cell_type": "markdown",
   "id": "preceding-initial",
   "metadata": {},
   "source": [
    "The commands below are some initial examples of analyzing the merged output. A full meta-analysis will go much deeper than this."
   ]
  },
  {
   "cell_type": "markdown",
   "id": "eastern-density",
   "metadata": {},
   "source": [
    "### Taxonomy barplot\n",
    "\n",
    "Create a taxonomy barplot."
   ]
  },
  {
   "cell_type": "code",
   "execution_count": null,
   "id": "sound-mouse",
   "metadata": {},
   "outputs": [],
   "source": [
    "%%bash\n",
    "qiime taxa barplot \\\n",
    "--i-table ../meta-analysis/merged_table.qza \\\n",
    "--i-taxonomy ../meta-analysis/merged_taxonomy.qza \\\n",
    "--m-metadata-file ../meta-analysis/merged_metadata.tsv \\\n",
    "--o-visualization ../meta-analysis/merged_taxa_barplot.qzv"
   ]
  },
  {
   "cell_type": "markdown",
   "id": "appointed-twelve",
   "metadata": {},
   "source": [
    "### Alpha diversity\n",
    "\n",
    "Create an alpha diversity vector using the 'shannon' metric."
   ]
  },
  {
   "cell_type": "code",
   "execution_count": null,
   "id": "unsigned-yeast",
   "metadata": {},
   "outputs": [],
   "source": [
    "%%bash\n",
    "qiime diversity alpha \\\n",
    "--i-table ../meta-analysis/merged_table.qza \\\n",
    "--p-metric shannon \\\n",
    "--o-alpha-diversity ../meta-analysis/merged_alpha_shannon.qza"
   ]
  },
  {
   "cell_type": "markdown",
   "id": "stainless-cartoon",
   "metadata": {},
   "source": [
    "### Beta diversity\n",
    "\n",
    "Create a beta diversity distance matrix using the 'braycurtis' metric."
   ]
  },
  {
   "cell_type": "code",
   "execution_count": null,
   "id": "former-plant",
   "metadata": {},
   "outputs": [],
   "source": [
    "%%bash\n",
    "qiime diversity beta \\\n",
    "--i-table ../meta-analysis/merged_table.qza \\\n",
    "--p-metric braycurtis \\\n",
    "--o-distance-matrix ../meta-analysis/merged_beta_braycurtis.qza"
   ]
  }
 ],
 "metadata": {
  "kernelspec": {
   "display_name": "Python 3",
   "language": "python",
   "name": "python3"
  },
  "language_info": {
   "codemirror_mode": {
    "name": "ipython",
    "version": 3
   },
   "file_extension": ".py",
   "mimetype": "text/x-python",
   "name": "python",
   "nbconvert_exporter": "python",
   "pygments_lexer": "ipython3",
   "version": "3.8.16"
  }
 },
 "nbformat": 4,
 "nbformat_minor": 5
}
